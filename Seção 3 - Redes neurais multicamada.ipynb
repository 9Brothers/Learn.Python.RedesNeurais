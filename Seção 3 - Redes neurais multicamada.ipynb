{
 "cells": [
  {
   "cell_type": "markdown",
   "metadata": {},
   "source": [
    "# 20. Funções de Ativação\n",
    "## Sigmoid (função sigmoide) \n",
    "$y = \\frac{1}{(1 + e ^ (-x))}$\n",
    "\n",
    "## Hyperbolic tanget (função tangente hiperbólica)\n",
    "$y = \\frac{(e^x - e^(-x))}{(e ^ x + e ^ (-x))}$\n",
    "\n",
    "Mais funções de Ativação\n",
    "https://en.wikipedia.org/wiki/Activation_function\n",
    "\n",
    "# 31. Descida do grandiente (gradient descent)\n",
    "$d = y * (1 - y)$\n",
    "\n",
    "# 33. Delta camada saída\n",
    "$deltaSaida = erro * derivadaSigmoide$\n",
    "\n",
    "# 35. Delta camada oculta\n",
    "$deltaEscondida = derivadaSigmoide * peso * deltaSaida$\n",
    "\n",
    "# 37. Backpropagation, taxa de aprendizagem e momento\n",
    "$peso_{n+1}  = (peso_{n} * momento) + (entrada * delta * taxaDeAprendizagem)$"
   ]
  },
  {
   "cell_type": "markdown",
   "metadata": {},
   "source": [
    "# 42. Implementação rede multicamada X"
   ]
  },
  {
   "cell_type": "code",
   "execution_count": 2,
   "metadata": {},
   "outputs": [
    {
     "output_type": "stream",
     "name": "stdout",
     "text": "Erro: 0.006978762880311359\n"
    }
   ],
   "source": [
    "import numpy as np\n",
    "\n",
    "def sigmoid(soma):\n",
    "    return 1 / (1 + np.exp(-soma))\n",
    "\n",
    "def sigmoidDerivada(sig):\n",
    "    return sig * (1 - sig)\n",
    "\n",
    "# a = sigmoid(0.5)\n",
    "# b = sigmoidDerivada(a)\n",
    "\n",
    "entradas = np.array([[0,0], [0,1], [1,0], [1,1]])\n",
    "saidas = np.array([[0], [1], [1], [0]])\n",
    "\n",
    "pesosX1 = [-0.424, -0.740, -0.961]\n",
    "pesosX2 = [0.358, -0.577, -0.469]\n",
    "\n",
    "pesos0 = np.array([pesosX1, pesosX2])\n",
    "\n",
    "pesos1 = np.array([[-0.017,], [-0.893], [0.148]])\n",
    "\n",
    "epocas = 1000000\n",
    "taxaAprendizagem = 0.3\n",
    "momento = 1\n",
    "mediaAbsoluta = 0.0\n",
    "\n",
    "for j in range(epocas):\n",
    "    camadaEntrada = entradas\n",
    "    somaSinapse0 = np.dot(camadaEntrada, pesos0)\n",
    "    camadaOculta = sigmoid(somaSinapse0)\n",
    "\n",
    "    somaSinapse1 = np.dot(camadaOculta, pesos1)\n",
    "    camadaSaida = sigmoid(somaSinapse1)\n",
    "\n",
    "    erroCamadaSaida = saidas - camadaSaida\n",
    "    mediaAbsoluta = np.mean(np.abs(erroCamadaSaida))    \n",
    "\n",
    "    derivadaSaida = sigmoidDerivada(camadaSaida)\n",
    "    deltaSaida = erroCamadaSaida * derivadaSaida\n",
    "\n",
    "    pesos1Transposta = pesos1.T\n",
    "    deltaSaidaXPeso = deltaSaida.dot(pesos1Transposta)\n",
    "\n",
    "    deltaCamadaOculta = deltaSaidaXPeso * sigmoidDerivada(camadaOculta)\n",
    "\n",
    "    camadaOcultaTransposta = camadaOculta.T\n",
    "    pesosNovo1 = camadaOcultaTransposta.dot(deltaSaida)\n",
    "\n",
    "    pesos1 = (pesos1 * momento) + (pesosNovo1 * taxaAprendizagem)\n",
    "    \n",
    "    camadaEntradaTransposta = camadaEntrada.T\n",
    "    pesosNovo0 = camadaEntradaTransposta.dot(deltaCamadaOculta)\n",
    "\n",
    "    pesos0 = (pesos0 * momento) + (pesosNovo0 * taxaAprendizagem)\n",
    "\n",
    "print(f'Erro: {str(mediaAbsoluta)}')"
   ]
  },
  {
   "cell_type": "code",
   "execution_count": 5,
   "metadata": {},
   "outputs": [
    {
     "output_type": "execute_result",
     "data": {
      "text/plain": "array([[0],\n       [1],\n       [1],\n       [0]])"
     },
     "metadata": {},
     "execution_count": 5
    }
   ],
   "source": [
    "saidas"
   ]
  },
  {
   "cell_type": "code",
   "execution_count": 8,
   "metadata": {},
   "outputs": [
    {
     "output_type": "execute_result",
     "data": {
      "text/plain": "array([[0.00760694],\n       [0.99401117],\n       [0.994011  ],\n       [0.00833029]])"
     },
     "metadata": {},
     "execution_count": 8
    }
   ],
   "source": [
    "camadaSaida"
   ]
  },
  {
   "cell_type": "markdown",
   "metadata": {},
   "source": [
    "# 43. Bias e erro\n",
    "## mean square error (MSE) e Root mean square error (RMSE)\n",
    "\n",
    "### Mean Square Error\n",
    "$\n",
    "MSE = \\frac{1}{N} \\sum_{i=1}^{N} (fi - yi)^{2}\n",
    "$\n",
    "\n",
    "### Root Mean Square Error\n",
    "$\n",
    "RSME = \\sqrt{\\frac{1}{N} \\sum_{i=1}^{N} (fi - yi)^{2}}\n",
    "$\n",
    "\n",
    "# 44. Saídas com mais neurônios e Deep learning\n",
    "Estudos para aprofundamento:\n",
    "- Redes neurais convulacionais\n",
    "- Redes neurais recorrentes\n",
    "- Keras, Theano, TensorFlow\n",
    "- GPU"
   ]
  }
 ],
 "metadata": {
  "language_info": {
   "codemirror_mode": {
    "name": "ipython",
    "version": 3
   },
   "file_extension": ".py",
   "mimetype": "text/x-python",
   "name": "python",
   "nbconvert_exporter": "python",
   "pygments_lexer": "ipython3",
   "version": "3.8.2-final"
  },
  "orig_nbformat": 2,
  "kernelspec": {
   "name": "python38264bit22f1f23baca94622b32ab93d7c00d9d4",
   "display_name": "Python 3.8.2 64-bit"
  }
 },
 "nbformat": 4,
 "nbformat_minor": 2
}