{
 "cells": [
  {
   "cell_type": "markdown",
   "metadata": {},
   "source": [
    "# 20. Funções de Ativação\n",
    "## Sigmoid (função sigmoide) \n",
    "$y = \\frac{1}{(1 + e ^ (-x))}$\n",
    "\n",
    "## Hyperbolic tanget (função tangente hiperbólica)\n",
    "$y = \\frac{(e^x - e^(-x))}{(e ^ x + e ^ (-x))}$\n",
    "\n",
    "Mais funções de Ativação\n",
    "https://en.wikipedia.org/wiki/Activation_function\n",
    "\n",
    "# 31. Descida do grandiente (gradient descent)\n",
    "$d = y * (1 - y)$\n",
    "\n",
    "# 33. Delta camada saída\n",
    "$deltaSaida = erro * derivadaSigmoide$\n",
    "\n",
    "# 35. Delta camada oculta\n",
    "$deltaEscondida = derivadaSigmoide * peso * deltaSaida$\n",
    "\n",
    "# 37. Backpropagation, taxa de aprendizagem e momento\n",
    "$peso_{n+1}  = (peso_{n} * momento) + (entrada * delta * taxaDeAprendizagem)$"
   ]
  },
  {
   "cell_type": "markdown",
   "metadata": {},
   "source": [
    "# 42. Implementação rede multicamada X"
   ]
  },
  {
   "cell_type": "code",
   "execution_count": 2,
   "metadata": {},
   "outputs": [
    {
     "name": "stdout",
     "output_type": "stream",
     "text": "Erro: 0.006978762880311359\n"
    }
   ],
   "source": [
    "import numpy as np\n",
    "\n",
    "def sigmoid(soma):\n",
    "    return 1 / (1 + np.exp(-soma))\n",
    "\n",
    "def sigmoidDerivada(sig):\n",
    "    return sig * (1 - sig)\n",
    "\n",
    "# a = sigmoid(0.5)\n",
    "# b = sigmoidDerivada(a)\n",
    "\n",
    "entradas = np.array([[0,0], [0,1], [1,0], [1,1]])\n",
    "saidas = np.array([[0], [1], [1], [0]])\n",
    "\n",
    "pesosX1 = [-0.424, -0.740, -0.961]\n",
    "pesosX2 = [0.358, -0.577, -0.469]\n",
    "\n",
    "pesos0 = np.array([pesosX1, pesosX2])\n",
    "\n",
    "pesos1 = np.array([[-0.017,], [-0.893], [0.148]])\n",
    "\n",
    "epocas = 1000000\n",
    "taxaAprendizagem = 0.3\n",
    "momento = 1\n",
    "mediaAbsoluta = 0.0\n",
    "\n",
    "for j in range(epocas):\n",
    "    camadaEntrada = entradas\n",
    "    somaSinapse0 = np.dot(camadaEntrada, pesos0)\n",
    "    camadaOculta = sigmoid(somaSinapse0)\n",
    "\n",
    "    somaSinapse1 = np.dot(camadaOculta, pesos1)\n",
    "    camadaSaida = sigmoid(somaSinapse1)\n",
    "\n",
    "    erroCamadaSaida = saidas - camadaSaida\n",
    "    mediaAbsoluta = np.mean(np.abs(erroCamadaSaida))    \n",
    "\n",
    "    derivadaSaida = sigmoidDerivada(camadaSaida)\n",
    "    deltaSaida = erroCamadaSaida * derivadaSaida\n",
    "\n",
    "    pesos1Transposta = pesos1.T\n",
    "    deltaSaidaXPeso = deltaSaida.dot(pesos1Transposta)\n",
    "\n",
    "    deltaCamadaOculta = deltaSaidaXPeso * sigmoidDerivada(camadaOculta)\n",
    "\n",
    "    camadaOcultaTransposta = camadaOculta.T\n",
    "    pesosNovo1 = camadaOcultaTransposta.dot(deltaSaida)\n",
    "\n",
    "    pesos1 = (pesos1 * momento) + (pesosNovo1 * taxaAprendizagem)\n",
    "    \n",
    "    camadaEntradaTransposta = camadaEntrada.T\n",
    "    pesosNovo0 = camadaEntradaTransposta.dot(deltaCamadaOculta)\n",
    "\n",
    "    pesos0 = (pesos0 * momento) + (pesosNovo0 * taxaAprendizagem)\n",
    "\n",
    "print(f'Erro: {str(mediaAbsoluta)}')"
   ]
  },
  {
   "cell_type": "code",
   "execution_count": 2,
   "metadata": {},
   "outputs": [
    {
     "ename": "NameError",
     "evalue": "name 'saidas' is not defined",
     "output_type": "error",
     "traceback": [
      "\u001b[1;31m---------------------------------------------------------------------------\u001b[0m",
      "\u001b[1;31mNameError\u001b[0m                                 Traceback (most recent call last)",
      "\u001b[1;32m<ipython-input-2-a9e68b351cc6>\u001b[0m in \u001b[0;36m<module>\u001b[1;34m\u001b[0m\n\u001b[1;32m----> 1\u001b[1;33m \u001b[0msaidas\u001b[0m\u001b[1;33m\u001b[0m\u001b[1;33m\u001b[0m\u001b[0m\n\u001b[0m",
      "\u001b[1;31mNameError\u001b[0m: name 'saidas' is not defined"
     ]
    }
   ],
   "source": [
    "saidas"
   ]
  },
  {
   "cell_type": "code",
   "execution_count": 8,
   "metadata": {},
   "outputs": [
    {
     "data": {
      "text/plain": "array([[0.00760694],\n       [0.99401117],\n       [0.994011  ],\n       [0.00833029]])"
     },
     "execution_count": 8,
     "metadata": {},
     "output_type": "execute_result"
    }
   ],
   "source": [
    "camadaSaida"
   ]
  },
  {
   "cell_type": "markdown",
   "metadata": {},
   "source": [
    "# 43. Bias e erro\n",
    "## mean square error (MSE) e Root mean square error (RMSE)\n",
    "\n",
    "### Mean Square Error\n",
    "$\n",
    "MSE = \\frac{1}{N} \\sum_{i=1}^{N} (fi - yi)^{2}\n",
    "$\n",
    "\n",
    "### Root Mean Square Error\n",
    "$\n",
    "RSME = \\sqrt{\\frac{1}{N} \\sum_{i=1}^{N} (fi - yi)^{2}}\n",
    "$\n",
    "\n",
    "# 44. Saídas com mais neurônios e Deep learning\n",
    "Estudos para aprofundamento:\n",
    "- Redes neurais convulacionais\n",
    "- Redes neurais recorrentes\n",
    "- Keras, Theano, TensorFlow\n",
    "- GPU\n",
    "\n",
    "# 49. Base de dados breast cancer\n"
   ]
  },
  {
   "cell_type": "code",
   "execution_count": 3,
   "metadata": {},
   "outputs": [
    {
     "name": "stdout",
     "output_type": "stream",
     "text": "Erro: 0.3725834797891076\n"
    }
   ],
   "source": [
    "import numpy as np\n",
    "from sklearn import datasets\n",
    "\n",
    "def sigmoid(soma):\n",
    "    return 1 / (1 + np.exp(-soma))\n",
    "\n",
    "def sigmoidDerivada(sig):\n",
    "    return sig * (1 - sig)\n",
    "\n",
    "base = datasets.load_breast_cancer()\n",
    "\n",
    "# entradas = np.array([[0,0], [0,1], [1,0], [1,1]])\n",
    "# saidas = np.array([[0], [1], [1], [0]])\n",
    "\n",
    "entradas = base.data\n",
    "valoresSaida = base.target\n",
    "saidas = np.empty([569, 1], dtype=int)\n",
    "\n",
    "for i in range(569):\n",
    "    saidas[i] = valoresSaida[i]\n",
    "\n",
    "pesos0 = 2 * np.random.random((30, 5)) - 1\n",
    "\n",
    "pesos1 = 2 * np.random.random((5, 1)) - 1\n",
    "\n",
    "epocas = 10000\n",
    "taxaAprendizagem = 0.3\n",
    "momento = 1\n",
    "mediaAbsoluta = 0.0\n",
    "\n",
    "for j in range(epocas):\n",
    "    camadaEntrada = entradas\n",
    "    somaSinapse0 = np.dot(camadaEntrada, pesos0)\n",
    "    camadaOculta = sigmoid(somaSinapse0)\n",
    "\n",
    "    somaSinapse1 = np.dot(camadaOculta, pesos1)\n",
    "    camadaSaida = sigmoid(somaSinapse1)\n",
    "\n",
    "    erroCamadaSaida = saidas - camadaSaida\n",
    "    mediaAbsoluta = np.mean(np.abs(erroCamadaSaida))    \n",
    "\n",
    "    derivadaSaida = sigmoidDerivada(camadaSaida)\n",
    "    deltaSaida = erroCamadaSaida * derivadaSaida\n",
    "\n",
    "    pesos1Transposta = pesos1.T\n",
    "    deltaSaidaXPeso = deltaSaida.dot(pesos1Transposta)\n",
    "\n",
    "    deltaCamadaOculta = deltaSaidaXPeso * sigmoidDerivada(camadaOculta)\n",
    "\n",
    "    camadaOcultaTransposta = camadaOculta.T\n",
    "    pesosNovo1 = camadaOcultaTransposta.dot(deltaSaida)\n",
    "\n",
    "    pesos1 = (pesos1 * momento) + (pesosNovo1 * taxaAprendizagem)\n",
    "    \n",
    "    camadaEntradaTransposta = camadaEntrada.T\n",
    "    pesosNovo0 = camadaEntradaTransposta.dot(deltaCamadaOculta)\n",
    "\n",
    "    pesos0 = (pesos0 * momento) + (pesosNovo0 * taxaAprendizagem)\n",
    "\n",
    "print(f'Erro: {str(mediaAbsoluta)}')"
   ]
  },
  {
   "cell_type": "markdown",
   "metadata": {},
   "source": [
    "# 50. Redes neurais com pybrain"
   ]
  },
  {
   "cell_type": "code",
   "execution_count": 1,
   "metadata": {},
   "outputs": [
    {
     "name": "stdout",
     "output_type": "stream",
     "text": "FeedForwardNetwork-10\n   Modules:\n    [<BiasUnit 'BiasUnit-6'>, <BiasUnit 'BiasUnit-8'>, <LinearLayer 'LinearLayer-5'>, <SigmoidLayer 'SigmoidLayer-7'>, <SigmoidLayer 'SigmoidLayer-9'>]\n   Connections:\n    []\n\n[-1.18740976  2.04417565  0.2300093   0.21449455  1.00654436  1.34097646]\n[ 1.16104962 -2.41223937 -0.47924254]\n[ 0.40005592 -1.65366373 -0.42077427]\n[-1.17705208]\n"
    }
   ],
   "source": [
    "from pybrain.structure import FeedForwardNetwork\n",
    "from pybrain.structure import LinearLayer, SigmoidLayer, BiasUnit\n",
    "from pybrain.structure import FullConnection\n",
    "\n",
    "rede = FeedForwardNetwork()\n",
    "\n",
    "camadaEntrada = LinearLayer(2)\n",
    "camadaOculta = SigmoidLayer(3)\n",
    "camadaSaida = SigmoidLayer(1)\n",
    "\n",
    "bias1 = BiasUnit()\n",
    "bias2 = BiasUnit()\n",
    "\n",
    "rede.addModule(camadaEntrada)\n",
    "rede.addModule(camadaOculta)\n",
    "rede.addModule(camadaSaida)\n",
    "rede.addModule(bias1)\n",
    "rede.addModule(bias2)\n",
    "\n",
    "entradaOculta = FullConnection(camadaEntrada, camadaOculta)\n",
    "saidaOculta = FullConnection(camadaOculta, camadaSaida)\n",
    "biasOculta = FullConnection(bias1, camadaOculta)\n",
    "biasSaida = FullConnection(bias2, camadaSaida)\n",
    "\n",
    "rede.sortModules()\n",
    "\n",
    "print(rede)\n",
    "print(entradaOculta.params)\n",
    "print(saidaOculta.params)\n",
    "print(biasOculta.params)\n",
    "print(biasSaida.params)\n",
    "\n",
    "\n"
   ]
  },
  {
   "cell_type": "code",
   "execution_count": null,
   "metadata": {},
   "outputs": [],
   "source": []
  }
 ],
 "metadata": {
  "language_info": {
   "codemirror_mode": {
    "name": "ipython",
    "version": 3
   },
   "file_extension": ".py",
   "mimetype": "text/x-python",
   "name": "python",
   "nbconvert_exporter": "python",
   "pygments_lexer": "ipython3",
   "version": "3.8.3-final"
  },
  "orig_nbformat": 2,
  "kernelspec": {
   "name": "python38364bit7f92530472724c06bfec274dd84e5d98",
   "display_name": "Python 3.8.3 64-bit"
  }
 },
 "nbformat": 4,
 "nbformat_minor": 2
}