{
 "cells": [
  {
   "cell_type": "markdown",
   "metadata": {},
   "source": [
    "# 9. Implementação perceptron de uma camada I"
   ]
  },
  {
   "cell_type": "code",
   "execution_count": 1,
   "metadata": {},
   "outputs": [
    {
     "output_type": "stream",
     "name": "stdout",
     "text": "0\n"
    }
   ],
   "source": [
    "entradas = [-1,7,5]\n",
    "pesos = [0.8, 0.1, 0]\n",
    "\n",
    "def soma(entradas, pesos):\n",
    "    s = 0\n",
    "    for i in range(len(entradas)):\n",
    "#         print(f\"e: {entradas[i]} / p: {pesos[i]}\")\n",
    "        s += entradas[i] * pesos[i]\n",
    "    \n",
    "    return s\n",
    "\n",
    "s = soma(entradas, pesos)\n",
    "\n",
    "# print(s)\n",
    "\n",
    "def stepFunction(soma):\n",
    "    return 1 if soma >= 1 else 0\n",
    "\n",
    "resultado = stepFunction(s)\n",
    "\n",
    "print(resultado)"
   ]
  },
  {
   "cell_type": "markdown",
   "metadata": {},
   "source": [
    "# 10. Implementação perceptron de uma camada II"
   ]
  },
  {
   "cell_type": "code",
   "execution_count": 40,
   "metadata": {},
   "outputs": [
    {
     "name": "stdout",
     "output_type": "stream",
     "text": [
      "0\n"
     ]
    }
   ],
   "source": [
    "import numpy as np\n",
    "\n",
    "entradas = np.array([-1,7,5])\n",
    "pesos = np.array([0.8, 0.1, 0])\n",
    "\n",
    "def soma(entradas, pesos):\n",
    "    # dot product / produto escalar\n",
    "    return entradas.dot(pesos)\n",
    "\n",
    "\n",
    "s = soma(entradas, pesos)\n",
    "\n",
    "# print(s)\n",
    "\n",
    "def stepFunction(soma):\n",
    "    return 1 if soma >= 1 else 0\n",
    "\n",
    "resultado = stepFunction(s)\n",
    "\n",
    "print(resultado)"
   ]
  },
  {
   "cell_type": "markdown",
   "metadata": {},
   "source": [
    "# 12. Ajuste dos pesos"
   ]
  },
  {
   "cell_type": "markdown",
   "metadata": {},
   "source": [
    "Algoritmo simples\n",
    "- erro = respostaCorreta - respostaCalculada\n",
    "\n",
    "Os pesos são atualizadso até os erros serem pequenos\n",
    "- peso(n + 1) = peso(n) + (taxaAprendizagem * entrada * erro)"
   ]
  },
  {
   "cell_type": "markdown",
   "metadata": {},
   "source": [
    "# 14. Implementação perceptron de uma camada III"
   ]
  },
  {
   "cell_type": "code",
   "execution_count": 4,
   "metadata": {},
   "outputs": [
    {
     "name": "stdout",
     "output_type": "stream",
     "text": [
      "Peso atualizado 0.0\n",
      "Peso atualizado 0.0\n",
      "Peso atualizado 0.0\n",
      "Peso atualizado 0.0\n",
      "Peso atualizado 0.0\n",
      "Peso atualizado 0.0\n",
      "Peso atualizado 0.1\n",
      "Peso atualizado 0.1\n",
      "Total de erros: 1\n",
      "Peso atualizado 0.1\n",
      "Peso atualizado 0.1\n",
      "Peso atualizado 0.1\n",
      "Peso atualizado 0.1\n",
      "Peso atualizado 0.1\n",
      "Peso atualizado 0.1\n",
      "Peso atualizado 0.2\n",
      "Peso atualizado 0.2\n",
      "Total de erros: 1\n",
      "Peso atualizado 0.2\n",
      "Peso atualizado 0.2\n",
      "Peso atualizado 0.2\n",
      "Peso atualizado 0.2\n",
      "Peso atualizado 0.2\n",
      "Peso atualizado 0.2\n",
      "Peso atualizado 0.30000000000000004\n",
      "Peso atualizado 0.30000000000000004\n",
      "Total de erros: 1\n",
      "Peso atualizado 0.30000000000000004\n",
      "Peso atualizado 0.30000000000000004\n",
      "Peso atualizado 0.30000000000000004\n",
      "Peso atualizado 0.30000000000000004\n",
      "Peso atualizado 0.30000000000000004\n",
      "Peso atualizado 0.30000000000000004\n",
      "Peso atualizado 0.4\n",
      "Peso atualizado 0.4\n",
      "Total de erros: 1\n",
      "Peso atualizado 0.4\n",
      "Peso atualizado 0.4\n",
      "Peso atualizado 0.4\n",
      "Peso atualizado 0.4\n",
      "Peso atualizado 0.4\n",
      "Peso atualizado 0.4\n",
      "Peso atualizado 0.5\n",
      "Peso atualizado 0.5\n",
      "Total de erros: 1\n",
      "Peso atualizado 0.5\n",
      "Peso atualizado 0.5\n",
      "Peso atualizado 0.5\n",
      "Peso atualizado 0.5\n",
      "Peso atualizado 0.5\n",
      "Peso atualizado 0.5\n",
      "Peso atualizado 0.5\n",
      "Peso atualizado 0.5\n",
      "Total de erros: 0\n"
     ]
    }
   ],
   "source": [
    "import numpy as np\n",
    "\n",
    "entradas = np.array([[0,0], [0,1], [1,0], [1,1]])\n",
    "saidas = np.array([0, 0, 0, 1])\n",
    "pesos = np.array([0.0, 0.0])\n",
    "taxaAprendizagem = 0.1\n",
    "\n",
    "def stepFunction(soma):\n",
    "    return 1 if soma >= 1 else 0\n",
    "\n",
    "def calculaSaida(registro):\n",
    "    s = registro.dot(pesos)\n",
    "    \n",
    "    return stepFunction(s);\n",
    "\n",
    "def treinar():\n",
    "    erroTotal = 1\n",
    "    \n",
    "    while(erroTotal != 0):\n",
    "        erroTotal = 0\n",
    "        \n",
    "        for i in range(len(saidas)):\n",
    "            saidaCalculada = calculaSaida(np.asarray(entradas[i]))\n",
    "            erro = abs(saidas[i] - saidaCalculada)\n",
    "            erroTotal += erro\n",
    "            \n",
    "            for j in range(len(pesos)):\n",
    "                pesos[j] = pesos[j] + (taxaAprendizagem * entradas[i][j] * erro)\n",
    "                print(f'Peso atualizado {str(pesos[j])}')\n",
    "                \n",
    "        print(f'Total de erros: {str(erroTotal)}')\n",
    "        \n",
    "treinar()\n",
    "    "
   ]
  },
  {
   "cell_type": "markdown",
   "metadata": {},
   "source": [
    "# 16. Implementação perceptron de uma camada V\n",
    "## Operador AND"
   ]
  },
  {
   "cell_type": "code",
   "execution_count": 4,
   "metadata": {},
   "outputs": [
    {
     "output_type": "stream",
     "name": "stdout",
     "text": "Peso atualizado 0.1\nPeso atualizado 0.1\nPeso atualizado 0.1\nTotal de erros: 1\nPeso atualizado 0.2\nPeso atualizado 0.2\nPeso atualizado 0.2\nTotal de erros: 1\nPeso atualizado 0.30000000000000004\nPeso atualizado 0.30000000000000004\nPeso atualizado 0.30000000000000004\nTotal de erros: 1\nPeso atualizado 0.4\nPeso atualizado 0.4\nPeso atualizado 0.4\nTotal de erros: 1\nTotal de erros: 0\nRede neural treinada\nPesos: [0.4, 0.4, 0.4]\n0\n0\n0\n0\n0\n0\n0\n1\n"
    }
   ],
   "source": [
    "import numpy as np\n",
    "\n",
    "entradas = np.array([[0,0,0], [0,0,1], [0,1,0], [0,1,1], [1,0,0], [1,0,1], [1,1,0], [1,1,1]])\n",
    "saidas = np.array([0, 0, 0, 0, 0, 0, 0, 1])\n",
    "pesos = np.array([0.0, 0.0, 0.0])\n",
    "taxaAprendizagem = 0.1\n",
    "\n",
    "def stepFunction(soma):\n",
    "    return 1 if soma >= 1 else 0\n",
    "\n",
    "def calculaSaida(registro):\n",
    "    s = registro.dot(pesos)\n",
    "    \n",
    "    return stepFunction(s)\n",
    "\n",
    "def treinar():\n",
    "    erroTotal = 1\n",
    "    \n",
    "    while(erroTotal != 0):\n",
    "        erroTotal = 0\n",
    "        \n",
    "        for i in range(len(saidas)):\n",
    "            saidaCalculada = calculaSaida(np.asarray(entradas[i]))\n",
    "            erro = abs(saidas[i] - saidaCalculada)\n",
    "            erroTotal += erro\n",
    "\n",
    "            if erro == 0:\n",
    "                continue\n",
    "            \n",
    "            # Atualiza pesos\n",
    "            for j in range(len(pesos)):\n",
    "                pesos[j] = pesos[j] + (taxaAprendizagem * entradas[i][j] * erro)\n",
    "                print(f'Peso atualizado {str(pesos[j])}')\n",
    "                \n",
    "        print(f'Total de erros: {str(erroTotal)}')\n",
    "        \n",
    "treinar()\n",
    "\n",
    "print('Rede neural treinada')\n",
    "print(f'Pesos: [{pesos[0]}, {pesos[1]}, {pesos[2]}]')\n",
    "print(calculaSaida(entradas[0]))\n",
    "print(calculaSaida(entradas[1]))\n",
    "print(calculaSaida(entradas[2]))\n",
    "print(calculaSaida(entradas[3]))\n",
    "print(calculaSaida(entradas[4]))\n",
    "print(calculaSaida(entradas[5]))\n",
    "print(calculaSaida(entradas[6]))\n",
    "print(calculaSaida(entradas[7]))"
   ]
  },
  {
   "cell_type": "markdown",
   "metadata": {},
   "source": [
    "# 17. Implementação perpectron de uma camada VI\n",
    "## Operador OR"
   ]
  },
  {
   "cell_type": "code",
   "execution_count": 7,
   "metadata": {},
   "outputs": [
    {
     "output_type": "stream",
     "name": "stdout",
     "text": "Peso atualizado 0.0\nPeso atualizado 0.1\nPeso atualizado 0.1\nPeso atualizado 0.1\nPeso atualizado 0.2\nPeso atualizado 0.2\nTotal de erros: 3\nPeso atualizado 0.2\nPeso atualizado 0.30000000000000004\nPeso atualizado 0.30000000000000004\nPeso atualizado 0.30000000000000004\nPeso atualizado 0.4\nPeso atualizado 0.4\nTotal de erros: 3\nPeso atualizado 0.4\nPeso atualizado 0.5\nPeso atualizado 0.5\nPeso atualizado 0.5\nTotal de erros: 2\nPeso atualizado 0.5\nPeso atualizado 0.6\nPeso atualizado 0.6\nPeso atualizado 0.6\nTotal de erros: 2\nPeso atualizado 0.6\nPeso atualizado 0.7\nPeso atualizado 0.7\nPeso atualizado 0.7\nTotal de erros: 2\nPeso atualizado 0.7\nPeso atualizado 0.7999999999999999\nPeso atualizado 0.7999999999999999\nPeso atualizado 0.7999999999999999\nTotal de erros: 2\nPeso atualizado 0.7999999999999999\nPeso atualizado 0.8999999999999999\nPeso atualizado 0.8999999999999999\nPeso atualizado 0.8999999999999999\nTotal de erros: 2\nPeso atualizado 0.8999999999999999\nPeso atualizado 0.9999999999999999\nPeso atualizado 0.9999999999999999\nPeso atualizado 0.9999999999999999\nTotal de erros: 2\nPeso atualizado 0.9999999999999999\nPeso atualizado 1.0999999999999999\nPeso atualizado 1.0999999999999999\nPeso atualizado 1.0999999999999999\nTotal de erros: 2\nTotal de erros: 0\nRede neural treinada\nPesos: [1.0999999999999999, 1.0999999999999999]\n0\n1\n1\n1\n"
    }
   ],
   "source": [
    "import numpy as np\n",
    "\n",
    "entradas = np.array([[0,0], [0,1], [1,0], [1,1]])\n",
    "saidas = np.array([0, 1, 1, 1])\n",
    "\n",
    "pesos = np.array([0.0, 0.0])\n",
    "taxaAprendizagem = 0.1\n",
    "\n",
    "def stepFunction(soma):\n",
    "    return 1 if soma >= 1 else 0\n",
    "\n",
    "def calculaSaida(registro):\n",
    "    s = registro.dot(pesos)\n",
    "    \n",
    "    return stepFunction(s)\n",
    "\n",
    "def treinar():\n",
    "    erroTotal = 1\n",
    "    \n",
    "    while(erroTotal != 0):\n",
    "        erroTotal = 0\n",
    "        \n",
    "        for i in range(len(saidas)):\n",
    "            saidaCalculada = calculaSaida(np.asarray(entradas[i]))\n",
    "            erro = abs(saidas[i] - saidaCalculada)\n",
    "            erroTotal += erro\n",
    "\n",
    "            if erro == 0:\n",
    "                continue\n",
    "            \n",
    "            # Atualiza pesos\n",
    "            for j in range(len(pesos)):\n",
    "                pesos[j] = pesos[j] + (taxaAprendizagem * entradas[i][j] * erro)\n",
    "                print(f'Peso atualizado {str(pesos[j])}')\n",
    "                \n",
    "        print(f'Total de erros: {str(erroTotal)}')\n",
    "        \n",
    "treinar()\n",
    "\n",
    "print('Rede neural treinada')\n",
    "print(f'Pesos: [{pesos[0]}, {pesos[1]}]')\n",
    "print(calculaSaida(entradas[0]))\n",
    "print(calculaSaida(entradas[1]))\n",
    "print(calculaSaida(entradas[2]))\n",
    "print(calculaSaida(entradas[3]))"
   ]
  },
  {
   "cell_type": "markdown",
   "metadata": {},
   "source": [
    "## Operador XOR - Não linearmente separável por reta"
   ]
  },
  {
   "cell_type": "code",
   "execution_count": null,
   "metadata": {},
   "outputs": [],
   "source": [
    "import numpy as np\n",
    "\n",
    "entradas = np.array([[0,0], [0,1], [1,0], [1,1]])\n",
    "saidas = np.array([0, 1, 1, 0])\n",
    "\n",
    "pesos = np.array([0.0, 0.0])\n",
    "taxaAprendizagem = 0.1\n",
    "\n",
    "def stepFunction(soma):\n",
    "    return 1 if soma >= 1 else 0\n",
    "\n",
    "def calculaSaida(registro):\n",
    "    s = registro.dot(pesos)\n",
    "    \n",
    "    return stepFunction(s)\n",
    "\n",
    "def treinar():\n",
    "    erroTotal = 1\n",
    "    \n",
    "    while(erroTotal != 0):\n",
    "        erroTotal = 0\n",
    "        \n",
    "        for i in range(len(saidas)):\n",
    "            saidaCalculada = calculaSaida(np.asarray(entradas[i]))\n",
    "            erro = abs(saidas[i] - saidaCalculada)\n",
    "            erroTotal += erro\n",
    "\n",
    "            if erro == 0:\n",
    "                continue\n",
    "            \n",
    "            # Atualiza pesos\n",
    "            for j in range(len(pesos)):\n",
    "                pesos[j] = pesos[j] + (taxaAprendizagem * entradas[i][j] * erro)\n",
    "                print(f'Peso atualizado {str(pesos[j])}')\n",
    "                \n",
    "        print(f'Total de erros: {str(erroTotal)}')\n",
    "        \n",
    "treinar()\n",
    "\n",
    "print('Rede neural treinada')\n",
    "print(f'Pesos: [{pesos[0]}, {pesos[1]}]')\n",
    "print(calculaSaida(entradas[0]))\n",
    "print(calculaSaida(entradas[1]))\n",
    "print(calculaSaida(entradas[2]))\n",
    "print(calculaSaida(entradas[3]))"
   ]
  }
 ],
 "metadata": {
  "kernelspec": {
   "display_name": "Python 3.8.2 64-bit",
   "language": "python",
   "name": "python38264bit22f1f23baca94622b32ab93d7c00d9d4"
  },
  "language_info": {
   "codemirror_mode": {
    "name": "ipython",
    "version": 3
   },
   "file_extension": ".py",
   "mimetype": "text/x-python",
   "name": "python",
   "nbconvert_exporter": "python",
   "pygments_lexer": "ipython3",
   "version": "3.8.2-final"
  }
 },
 "nbformat": 4,
 "nbformat_minor": 4
}