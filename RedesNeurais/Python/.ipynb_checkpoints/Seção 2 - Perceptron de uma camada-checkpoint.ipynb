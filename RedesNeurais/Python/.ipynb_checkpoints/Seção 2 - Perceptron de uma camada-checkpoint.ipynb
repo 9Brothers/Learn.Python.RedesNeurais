{
 "cells": [
  {
   "cell_type": "markdown",
   "metadata": {},
   "source": [
    "# 10. Implementação perceptron de uma camada I"
   ]
  },
  {
   "cell_type": "code",
   "execution_count": 37,
   "metadata": {},
   "outputs": [
    {
     "name": "stdout",
     "output_type": "stream",
     "text": [
      "0\n"
     ]
    }
   ],
   "source": [
    "entradas = [-1,7,5]\n",
    "pesos = [0.8, 0.1, 0]\n",
    "\n",
    "def soma(entradas, pesos):\n",
    "    s = 0\n",
    "    for i in range(len(entradas)):\n",
    "#         print(f\"e: {entradas[i]} / p: {pesos[i]}\")\n",
    "        s += entradas[i] * pesos[i]\n",
    "    \n",
    "    return s\n",
    "\n",
    "s = soma(entradas, pesos)\n",
    "\n",
    "# print(s)\n",
    "\n",
    "def stepFunction(soma):\n",
    "    return 1 if soma >= 1 else 0\n",
    "\n",
    "resultado = stepFunction(s)\n",
    "\n",
    "print(resultado)"
   ]
  },
  {
   "cell_type": "markdown",
   "metadata": {},
   "source": [
    "# 11. Implementação perceptron de uma camada II"
   ]
  },
  {
   "cell_type": "code",
   "execution_count": 40,
   "metadata": {},
   "outputs": [
    {
     "name": "stdout",
     "output_type": "stream",
     "text": [
      "0\n"
     ]
    }
   ],
   "source": [
    "import numpy as np\n",
    "\n",
    "entradas = np.array([-1,7,5])\n",
    "pesos = np.array([0.8, 0.1, 0])\n",
    "\n",
    "def soma(entradas, pesos):\n",
    "    # dot product / produto escalar\n",
    "    return entradas.dot(pesos)\n",
    "\n",
    "\n",
    "s = soma(entradas, pesos)\n",
    "\n",
    "# print(s)\n",
    "\n",
    "def stepFunction(soma):\n",
    "    return 1 if soma >= 1 else 0\n",
    "\n",
    "resultado = stepFunction(s)\n",
    "\n",
    "print(resultado)"
   ]
  },
  {
   "cell_type": "code",
   "execution_count": null,
   "metadata": {},
   "outputs": [],
   "source": []
  }
 ],
 "metadata": {
  "kernelspec": {
   "display_name": "Python 3.8.2 64-bit",
   "language": "python",
   "name": "python38264bit22f1f23baca94622b32ab93d7c00d9d4"
  },
  "language_info": {
   "codemirror_mode": {
    "name": "ipython",
    "version": 3
   },
   "file_extension": ".py",
   "mimetype": "text/x-python",
   "name": "python",
   "nbconvert_exporter": "python",
   "pygments_lexer": "ipython3",
   "version": "3.8.2"
  }
 },
 "nbformat": 4,
 "nbformat_minor": 4
}
